{
 "cells": [
  {
   "cell_type": "code",
   "execution_count": 196,
   "metadata": {},
   "outputs": [],
   "source": [
    "import json\n",
    "import pandas as pd\n",
    "import requests as r\n",
    "import csv"
   ]
  },
  {
   "cell_type": "code",
   "execution_count": 66,
   "metadata": {},
   "outputs": [],
   "source": [
    "pd.set_option('display.max_colwidth', -1) # see https://thispointer.com/python-pandas-how-to-display-full-dataframe-i-e-print-all-rows-columns-without-truncation/ - to show cells with long strings in them "
   ]
  },
  {
   "cell_type": "markdown",
   "metadata": {},
   "source": [
    "# Learning Datasette with some sample data about BMJ publications. \n",
    "\n",
    "I am interested in learning about datasette - an open soruce tool for publishing and exploring data. In order to learn about the tool I've decided to see if it can be used to create an interface to explore some informaiton about papers published by the BMJ. The goal is to see if Datasette could be a useful tool for publishing and sharing data. \n",
    "\n",
    "In this notebook I'm going to: \n",
    "\n",
    "- get some data about 100 BMJ artilces using the crossref API \n",
    "- take a selection of the metadata from those articles\n",
    "- install Datasette locally \n",
    "- use sqlite_utils to create a local sqlite databse \n",
    "- use datasette running locally to explore and interact with this data \n",
    "- export to CSV from my local instance \n",
    "- upload this CSV to an online instance of Datasette running on Glitch \n",
    "- configre the Glitch instance to enable full text search on some of the fields \n",
    "\n",
    "The final output can be seen running at  [https://watery-alder-carpenter.glitch.me/data/article](). \n",
    "\n",
    "Overall it went really well, and I'm excited about Datasette. \n",
    "\n",
    "You can grab a copy of this notebook from [https://github.com/IanMulvany/datasette-testing-bmj-articles]()."
   ]
  },
  {
   "cell_type": "markdown",
   "metadata": {},
   "source": [
    "# Getting some BMJ article data via the CrossRef API. \n",
    "\n",
    "I want to get infomration on 1000 recent papers published by the BMJ, it's fine if it's across a number of journals. CrossRef provide an API that can be used to get metadata about scholarly articles, and it can be queried by publisher id. \n",
    "\n",
    "### Getting the BMJ membership id\n",
    "\n",
    "The crossref [API documentation is good](https://github.com/CrossRef/rest-api-doc). I can get information on BMJ works using the following endpoint `/members/{member_id}/works`, but first I need to determine the member id for the BMJ. I've usually struggled with this, as previously I've hit the members endpoint and searched through the results in that, but after poking around on the crossref site, I can see that there is a page [https://www.crossref.org/reporting/members-with-open-references/]() where you can search for some members and the result includes the members id. \n",
    "\n",
    "Using that we find that the BMJ id is `239`."
   ]
  },
  {
   "cell_type": "markdown",
   "metadata": {},
   "source": [
    "### Getting some sample article metadata to play with. "
   ]
  },
  {
   "cell_type": "markdown",
   "metadata": {},
   "source": [
    "Let's check our id to see if it looks correct. "
   ]
  },
  {
   "cell_type": "code",
   "execution_count": 63,
   "metadata": {},
   "outputs": [],
   "source": [
    "url = \"https://api.crossref.org/members/239\"\n",
    "results = r.get(url)\n",
    "response_df = pd.read_json(results.text) # push the json response into a dataframe, just to make it easier to look at in the notebook"
   ]
  },
  {
   "cell_type": "code",
   "execution_count": 64,
   "metadata": {},
   "outputs": [
    {
     "data": {
      "text/html": [
       "<div>\n",
       "<style scoped>\n",
       "    .dataframe tbody tr th:only-of-type {\n",
       "        vertical-align: middle;\n",
       "    }\n",
       "\n",
       "    .dataframe tbody tr th {\n",
       "        vertical-align: top;\n",
       "    }\n",
       "\n",
       "    .dataframe thead th {\n",
       "        text-align: right;\n",
       "    }\n",
       "</style>\n",
       "<table border=\"1\" class=\"dataframe\">\n",
       "  <thead>\n",
       "    <tr style=\"text-align: right;\">\n",
       "      <th></th>\n",
       "      <th>status</th>\n",
       "      <th>message-type</th>\n",
       "      <th>message-version</th>\n",
       "      <th>message</th>\n",
       "    </tr>\n",
       "  </thead>\n",
       "  <tbody>\n",
       "    <tr>\n",
       "      <th>breakdowns</th>\n",
       "      <td>ok</td>\n",
       "      <td>member</td>\n",
       "      <td>1.0.0</td>\n",
       "      <td>{'dois-by-issued-year': [[2019, 35998], [2013, 32478], [2018, 31835], [2017, 29277], [2016, 28390], [2014, 28183], [2015, 28043], [2012, 24775], [2011, 22030], [2010, 19796], [2004, 16463], [2005, 15732], [2006, 15533], [2007, 14566], [2003, 14486], [2008, 14390], [2009, 14226], [2002, 12727], [2020, 11051], [2001, 10726], [2000, 10077], [1999, 10069], [1995, 9944], [1998, 9793], [1996, 9649], [1997, 9188], [1994, 9054], [1993, 9052], [1992, 8643], [1991, 8232], [1988, 8095], [1987, 8048], [1989, 7989], [1984, 7918], [1986, 7861], [1985, 7794], [1981, 7679], [1978, 7625], [1983, 7617], [1982, 7563], [1979, 7515], [1977, 7379], [1976, 7366], [1980, 7224], [1990, 7045], [1975, 7034], [1972, 6600], [1973, 6523], [1974, 6507], [1970, 6378], [1971, 6171], [1969, 6128], [1964, 5855], [1968, 5630], [1965, 5618], [1966, 5605], [1967, 5583], [1963, 4884], [1961, 4825], [1962, 4757], [1960, 4745], [1958, 4127], [1955, 4105], [1954, 3975], [1957, 3929], [1959, 3860], [1948, 3855], [1956, 3820], [1950, 3751], [1953, 3733], [1952, 3667], [1951, 3628], [1949, 3464], [1946, 3255], [1947, 3121], [1945, 2953], [1938, 2946], [1936, 2933], [1939, 2905], [1935, 2886], [1944, 2801], [1940, 2741], [1937, 2699], [1943, 2684], [1910, 2679], [1941, 2654], [1907, 2643], [1934, 2617], [1933, 2499], [1942, 2496], [1909, 2479], [1932, 2475], [1929, 2469], [1898, 2447], [1906, 2446], [1897, 2430], [1901, 2421], [1908, 2413], [1927, 2378], [1930, 2374], ...]}</td>\n",
       "    </tr>\n",
       "    <tr>\n",
       "      <th>counts</th>\n",
       "      <td>ok</td>\n",
       "      <td>member</td>\n",
       "      <td>1.0.0</td>\n",
       "      <td>{'total-dois': 942856, 'current-dois': 78884, 'backfile-dois': 863972}</td>\n",
       "    </tr>\n",
       "    <tr>\n",
       "      <th>counts-type</th>\n",
       "      <td>ok</td>\n",
       "      <td>member</td>\n",
       "      <td>1.0.0</td>\n",
       "      <td>{'all': {'journal': 10, 'journal-issue': 32, 'component': 10700, 'proceedings-article': 38875, 'dataset': 1, 'journal-article': 903949}, 'current': {'proceedings-article': 28247, 'journal-article': 50637}, 'backfile': {'journal-issue': 32, 'proceedings-article': 10628, 'journal-article': 853312}}</td>\n",
       "    </tr>\n",
       "    <tr>\n",
       "      <th>coverage</th>\n",
       "      <td>ok</td>\n",
       "      <td>member</td>\n",
       "      <td>1.0.0</td>\n",
       "      <td>{'affiliations-current': 1.267684183403616e-05, 'similarity-checking-current': 1.0, 'funders-backfile': 0.005678424611687, 'licenses-backfile': 0.049050200730562, 'funders-current': 0.16993306577205602, 'affiliations-backfile': 8.102114406938199e-06, 'resource-links-backfile': 0.049035154283046, 'orcids-backfile': 0.007862523198127, 'update-policies-current': 0.9898458719253541, 'open-references-backfile': 1.0, 'orcids-current': 0.303838551044464, 'similarity-checking-backfile': 0.948795795440673, 'references-backfile': 0.21159945428371402, 'award-numbers-backfile': 0.001630839891731, 'update-policies-backfile': 0.176815912127494, 'licenses-current': 0.16405101120471902, 'award-numbers-current': 0.070876225829124, 'abstracts-backfile': 0.011933256871998001, 'resource-links-current': 0.112215407192707, 'abstracts-current': 0.358285576105117, 'open-references-current': 1.0, 'references-current': 0.448861628770828}</td>\n",
       "    </tr>\n",
       "    <tr>\n",
       "      <th>coverage-type</th>\n",
       "      <td>ok</td>\n",
       "      <td>member</td>\n",
       "      <td>1.0.0</td>\n",
       "      <td>{'all': {'dataset': {'last-status-check-time': 1593151940343, 'affiliations': 0.0, 'abstracts': 0.0, 'orcids': 0.0, 'licenses': 0.0, 'references': 0.0, 'funders': 0.0, 'similarity-checking': 0.0, 'award-numbers': 0.0, 'update-policies': 0.0, 'resource-links': 0.0, 'open-references': 1.0}, 'journal': {'last-status-check-time': 1593151937159, 'affiliations': 0.0, 'abstracts': 0.0, 'orcids': 0.0, 'licenses': 0.0, 'references': 0.0, 'funders': 0.0, 'similarity-checking': 0.0, 'award-numbers': 0.0, 'update-policies': 0.0, 'resource-links': 0.0, 'open-references': 1.0}, 'journal-issue': {'last-status-check-time': 1593151933646, 'affiliations': 0.0, 'abstracts': 0.0, 'orcids': 0.0, 'licenses': 0.0, 'references': 0.0, 'funders': 0.0, 'similarity-checking': 0.0, 'award-numbers': 0.0, 'update-policies': 0.0, 'resource-links': 0.0, 'open-references': 1.0}, 'component': {'last-status-check-time': 1593151930206, 'affiliations': 0.0, 'abstracts': 0.0, 'orcids': 0.0, 'licenses': 0.0, 'references': 0.0, 'funders': 0.0, 'similarity-checking': 1.0, 'award-numbers': 0.0, 'update-policies': 0.0, 'resource-links': 0.0, 'open-references': 1.0}, 'proceedings-article': {'last-status-check-time': 1593151926966, 'affiliations': 0.0, 'abstracts': 0.0, 'orcids': 0.0, 'licenses': 0.0, 'references': 5.144694659975358e-05, 'funders': 0.0, 'similarity-checking': 1.0, 'award-numbers': 0.0, 'update-policies': 1.0, 'resource-links': 0.0, 'open-references': 1.0}, 'journal-article': {'last-status-check-time': 1593151923597, 'affiliations': 8.850056474329904e-06, 'abstracts': 0.042671654373407, 'orcids': 0.034029573202133005, 'licenses': 0.061197035014629, 'references': 0.24140964448451901, 'funders': 0.020256673917174003, 'similarity-checking': 0.951095700263977, 'award-numbers': 0.007743799593299, 'update-policies': 0.21237038075923903, 'resource-links': 0.056659169495105, 'open-references': 1.0}}, 'backfile': {'journal-issue': {'last-status-check-time': 1593151920796, 'affiliations': 0.0, 'abstracts': 0.0, 'orcids': 0.0, 'licenses': 0.0, 'references': 0.0, 'funders': 0.0, 'similarity-checking': 0.0, 'award-numbers': 0.0, 'update-policies': 0.0, 'resource-links': 0.0, 'open-references': 1.0}, 'proceedings-article': {'last-status-check-time': 1593151917440, 'affiliations': 0.0, 'abstracts': 0.0, 'orcids': 0.0, 'licenses': 0.0, 'references': 0.0, 'funders': 0.0, 'similarity-checking': 1.0, 'award-numbers': 0.0, 'update-policies': 1.0, 'resource-links': 0.0, 'open-references': 1.0}, 'journal-article': {'last-status-check-time': 1593151913801, 'affiliations': 8.203330253309105e-06, 'abstracts': 0.012082333676517001, 'orcids': 0.007960746064782, 'licenses': 0.049662958830595, 'references': 0.214242860674858, 'funders': 0.005749362520873, 'similarity-checking': 0.9481936097145081, 'award-numbers': 0.0016512131551280002, 'update-policies': 0.166569784283638, 'resource-links': 0.049647726118564, 'open-references': 1.0}}, 'current': {'proceedings-article': {'last-status-check-time': 1593151910755, 'affiliations': 0.0, 'abstracts': 0.0, 'orcids': 0.0, 'licenses': 0.0, 'references': 7.080398063408211e-05, 'funders': 0.0, 'similarity-checking': 1.0, 'award-numbers': 0.0, 'update-policies': 1.0, 'resource-links': 0.0, 'open-references': 1.0}, 'journal-article': {'last-status-check-time': 1593151907016, 'affiliations': 1.974840597540605e-05, 'abstracts': 0.55814915895462, 'orcids': 0.473329782485961, 'licenses': 0.25556412339210505, 'references': 0.69921201467514, 'funders': 0.264727383852005, 'similarity-checking': 1.0, 'award-numbers': 0.11041333526372901, 'update-policies': 0.9841815233230591, 'resource-links': 0.174812883138656, 'open-references': 1.0}}}</td>\n",
       "    </tr>\n",
       "    <tr>\n",
       "      <th>flags</th>\n",
       "      <td>ok</td>\n",
       "      <td>member</td>\n",
       "      <td>1.0.0</td>\n",
       "      <td>{'deposits-abstracts-current': True, 'deposits-orcids-current': True, 'deposits': True, 'deposits-affiliations-backfile': True, 'deposits-update-policies-backfile': True, 'deposits-similarity-checking-backfile': True, 'deposits-award-numbers-current': True, 'deposits-resource-links-current': True, 'deposits-articles': True, 'deposits-affiliations-current': True, 'deposits-funders-current': True, 'deposits-references-backfile': True, 'deposits-abstracts-backfile': True, 'deposits-licenses-backfile': True, 'deposits-award-numbers-backfile': True, 'deposits-open-references-backfile': True, 'deposits-open-references-current': True, 'deposits-references-current': True, 'deposits-resource-links-backfile': True, 'deposits-orcids-backfile': True, 'deposits-funders-backfile': True, 'deposits-update-policies-current': True, 'deposits-similarity-checking-current': True, 'deposits-licenses-current': True}</td>\n",
       "    </tr>\n",
       "    <tr>\n",
       "      <th>id</th>\n",
       "      <td>ok</td>\n",
       "      <td>member</td>\n",
       "      <td>1.0.0</td>\n",
       "      <td>239</td>\n",
       "    </tr>\n",
       "    <tr>\n",
       "      <th>last-status-check-time</th>\n",
       "      <td>ok</td>\n",
       "      <td>member</td>\n",
       "      <td>1.0.0</td>\n",
       "      <td>1593151950376</td>\n",
       "    </tr>\n",
       "    <tr>\n",
       "      <th>location</th>\n",
       "      <td>ok</td>\n",
       "      <td>member</td>\n",
       "      <td>1.0.0</td>\n",
       "      <td>BMA House Tavistock Square Tavistock Square London WC1H 9JP United Kingdom</td>\n",
       "    </tr>\n",
       "    <tr>\n",
       "      <th>names</th>\n",
       "      <td>ok</td>\n",
       "      <td>member</td>\n",
       "      <td>1.0.0</td>\n",
       "      <td>[BMJ, Faculty of Family Planning]</td>\n",
       "    </tr>\n",
       "    <tr>\n",
       "      <th>prefix</th>\n",
       "      <td>ok</td>\n",
       "      <td>member</td>\n",
       "      <td>1.0.0</td>\n",
       "      <td>[{'value': '10.1783', 'name': 'Faculty of Family Planning', 'public-references': True, 'reference-visibility': 'open'}, {'value': '10.1136', 'name': 'BMJ', 'public-references': True, 'reference-visibility': 'open'}]</td>\n",
       "    </tr>\n",
       "    <tr>\n",
       "      <th>prefixes</th>\n",
       "      <td>ok</td>\n",
       "      <td>member</td>\n",
       "      <td>1.0.0</td>\n",
       "      <td>[10.1783, 10.1136]</td>\n",
       "    </tr>\n",
       "    <tr>\n",
       "      <th>primary-name</th>\n",
       "      <td>ok</td>\n",
       "      <td>member</td>\n",
       "      <td>1.0.0</td>\n",
       "      <td>BMJ</td>\n",
       "    </tr>\n",
       "    <tr>\n",
       "      <th>tokens</th>\n",
       "      <td>ok</td>\n",
       "      <td>member</td>\n",
       "      <td>1.0.0</td>\n",
       "      <td>[bmj]</td>\n",
       "    </tr>\n",
       "  </tbody>\n",
       "</table>\n",
       "</div>"
      ],
      "text/plain": [
       "                       status message-type message-version  \\\n",
       "breakdowns              ok     member       1.0.0            \n",
       "counts                  ok     member       1.0.0            \n",
       "counts-type             ok     member       1.0.0            \n",
       "coverage                ok     member       1.0.0            \n",
       "coverage-type           ok     member       1.0.0            \n",
       "flags                   ok     member       1.0.0            \n",
       "id                      ok     member       1.0.0            \n",
       "last-status-check-time  ok     member       1.0.0            \n",
       "location                ok     member       1.0.0            \n",
       "names                   ok     member       1.0.0            \n",
       "prefix                  ok     member       1.0.0            \n",
       "prefixes                ok     member       1.0.0            \n",
       "primary-name            ok     member       1.0.0            \n",
       "tokens                  ok     member       1.0.0            \n",
       "\n",
       "                                                                                                                                                                                                                                                                                                                                                                                                                                                                                                                                                                                                                                                                                                                                                                                                                                                                                                                                                                                                                                                                                                                                                                                                                                                                                                                                                                                                                                                                                                                                                                                                                                                                                                                                                                                                                                                                                                                                                                                                                                                                                                                                                                                                                                                                                                                                                                                                                                                                                                                                                                                                                                                                                                                                                                                                                                                                                                                                                                                                                                                                                                                                                                                                                                                                                                                                                                                                                                                                                                                                                                                                                                                                                                                                                                                                                                             message  \n",
       "breakdowns              {'dois-by-issued-year': [[2019, 35998], [2013, 32478], [2018, 31835], [2017, 29277], [2016, 28390], [2014, 28183], [2015, 28043], [2012, 24775], [2011, 22030], [2010, 19796], [2004, 16463], [2005, 15732], [2006, 15533], [2007, 14566], [2003, 14486], [2008, 14390], [2009, 14226], [2002, 12727], [2020, 11051], [2001, 10726], [2000, 10077], [1999, 10069], [1995, 9944], [1998, 9793], [1996, 9649], [1997, 9188], [1994, 9054], [1993, 9052], [1992, 8643], [1991, 8232], [1988, 8095], [1987, 8048], [1989, 7989], [1984, 7918], [1986, 7861], [1985, 7794], [1981, 7679], [1978, 7625], [1983, 7617], [1982, 7563], [1979, 7515], [1977, 7379], [1976, 7366], [1980, 7224], [1990, 7045], [1975, 7034], [1972, 6600], [1973, 6523], [1974, 6507], [1970, 6378], [1971, 6171], [1969, 6128], [1964, 5855], [1968, 5630], [1965, 5618], [1966, 5605], [1967, 5583], [1963, 4884], [1961, 4825], [1962, 4757], [1960, 4745], [1958, 4127], [1955, 4105], [1954, 3975], [1957, 3929], [1959, 3860], [1948, 3855], [1956, 3820], [1950, 3751], [1953, 3733], [1952, 3667], [1951, 3628], [1949, 3464], [1946, 3255], [1947, 3121], [1945, 2953], [1938, 2946], [1936, 2933], [1939, 2905], [1935, 2886], [1944, 2801], [1940, 2741], [1937, 2699], [1943, 2684], [1910, 2679], [1941, 2654], [1907, 2643], [1934, 2617], [1933, 2499], [1942, 2496], [1909, 2479], [1932, 2475], [1929, 2469], [1898, 2447], [1906, 2446], [1897, 2430], [1901, 2421], [1908, 2413], [1927, 2378], [1930, 2374], ...]}                                                                                                                                                                                                                                                                                                                                                                                                                                                                                                                                                                                                                                                                                                                                                                                                                                                                                                                                                                                                                                                                                                                                                                                                                                                                                                                                                                                                                                                                                                                                                                                                                                                                                                                                                                                                                                                                                                                                                                                                                                                                                                                                                                                                                                                                                                                  \n",
       "counts                  {'total-dois': 942856, 'current-dois': 78884, 'backfile-dois': 863972}                                                                                                                                                                                                                                                                                                                                                                                                                                                                                                                                                                                                                                                                                                                                                                                                                                                                                                                                                                                                                                                                                                                                                                                                                                                                                                                                                                                                                                                                                                                                                                                                                                                                                                                                                                                                                                                                                                                                                                                                                                                                                                                                                                                                                                                                                                                                                                                                                                                                                                                                                                                                                                                                                                                                                                                                                                                                                                                                                                                                                                                                                                                                                                                                                                                                                                                                                                                                                                                                                                                                                                                                                                                                                                                                                        \n",
       "counts-type             {'all': {'journal': 10, 'journal-issue': 32, 'component': 10700, 'proceedings-article': 38875, 'dataset': 1, 'journal-article': 903949}, 'current': {'proceedings-article': 28247, 'journal-article': 50637}, 'backfile': {'journal-issue': 32, 'proceedings-article': 10628, 'journal-article': 853312}}                                                                                                                                                                                                                                                                                                                                                                                                                                                                                                                                                                                                                                                                                                                                                                                                                                                                                                                                                                                                                                                                                                                                                                                                                                                                                                                                                                                                                                                                                                                                                                                                                                                                                                                                                                                                                                                                                                                                                                                                                                                                                                                                                                                                                                                                                                                                                                                                                                                                                                                                                                                                                                                                                                                                                                                                                                                                                                                                                                                                                                                                                                                                                                                                                                                                                                                                                                                                                                                                                                                     \n",
       "coverage                {'affiliations-current': 1.267684183403616e-05, 'similarity-checking-current': 1.0, 'funders-backfile': 0.005678424611687, 'licenses-backfile': 0.049050200730562, 'funders-current': 0.16993306577205602, 'affiliations-backfile': 8.102114406938199e-06, 'resource-links-backfile': 0.049035154283046, 'orcids-backfile': 0.007862523198127, 'update-policies-current': 0.9898458719253541, 'open-references-backfile': 1.0, 'orcids-current': 0.303838551044464, 'similarity-checking-backfile': 0.948795795440673, 'references-backfile': 0.21159945428371402, 'award-numbers-backfile': 0.001630839891731, 'update-policies-backfile': 0.176815912127494, 'licenses-current': 0.16405101120471902, 'award-numbers-current': 0.070876225829124, 'abstracts-backfile': 0.011933256871998001, 'resource-links-current': 0.112215407192707, 'abstracts-current': 0.358285576105117, 'open-references-current': 1.0, 'references-current': 0.448861628770828}                                                                                                                                                                                                                                                                                                                                                                                                                                                                                                                                                                                                                                                                                                                                                                                                                                                                                                                                                                                                                                                                                                                                                                                                                                                                                                                                                                                                                                                                                                                                                                                                                                                                                                                                                                                                                                                                                                                                                                                                                                                                                                                                                                                                                                                                                                                                                                                                                                                                                                                                                                                                                                                                                                                                                                                                                                                                 \n",
       "coverage-type           {'all': {'dataset': {'last-status-check-time': 1593151940343, 'affiliations': 0.0, 'abstracts': 0.0, 'orcids': 0.0, 'licenses': 0.0, 'references': 0.0, 'funders': 0.0, 'similarity-checking': 0.0, 'award-numbers': 0.0, 'update-policies': 0.0, 'resource-links': 0.0, 'open-references': 1.0}, 'journal': {'last-status-check-time': 1593151937159, 'affiliations': 0.0, 'abstracts': 0.0, 'orcids': 0.0, 'licenses': 0.0, 'references': 0.0, 'funders': 0.0, 'similarity-checking': 0.0, 'award-numbers': 0.0, 'update-policies': 0.0, 'resource-links': 0.0, 'open-references': 1.0}, 'journal-issue': {'last-status-check-time': 1593151933646, 'affiliations': 0.0, 'abstracts': 0.0, 'orcids': 0.0, 'licenses': 0.0, 'references': 0.0, 'funders': 0.0, 'similarity-checking': 0.0, 'award-numbers': 0.0, 'update-policies': 0.0, 'resource-links': 0.0, 'open-references': 1.0}, 'component': {'last-status-check-time': 1593151930206, 'affiliations': 0.0, 'abstracts': 0.0, 'orcids': 0.0, 'licenses': 0.0, 'references': 0.0, 'funders': 0.0, 'similarity-checking': 1.0, 'award-numbers': 0.0, 'update-policies': 0.0, 'resource-links': 0.0, 'open-references': 1.0}, 'proceedings-article': {'last-status-check-time': 1593151926966, 'affiliations': 0.0, 'abstracts': 0.0, 'orcids': 0.0, 'licenses': 0.0, 'references': 5.144694659975358e-05, 'funders': 0.0, 'similarity-checking': 1.0, 'award-numbers': 0.0, 'update-policies': 1.0, 'resource-links': 0.0, 'open-references': 1.0}, 'journal-article': {'last-status-check-time': 1593151923597, 'affiliations': 8.850056474329904e-06, 'abstracts': 0.042671654373407, 'orcids': 0.034029573202133005, 'licenses': 0.061197035014629, 'references': 0.24140964448451901, 'funders': 0.020256673917174003, 'similarity-checking': 0.951095700263977, 'award-numbers': 0.007743799593299, 'update-policies': 0.21237038075923903, 'resource-links': 0.056659169495105, 'open-references': 1.0}}, 'backfile': {'journal-issue': {'last-status-check-time': 1593151920796, 'affiliations': 0.0, 'abstracts': 0.0, 'orcids': 0.0, 'licenses': 0.0, 'references': 0.0, 'funders': 0.0, 'similarity-checking': 0.0, 'award-numbers': 0.0, 'update-policies': 0.0, 'resource-links': 0.0, 'open-references': 1.0}, 'proceedings-article': {'last-status-check-time': 1593151917440, 'affiliations': 0.0, 'abstracts': 0.0, 'orcids': 0.0, 'licenses': 0.0, 'references': 0.0, 'funders': 0.0, 'similarity-checking': 1.0, 'award-numbers': 0.0, 'update-policies': 1.0, 'resource-links': 0.0, 'open-references': 1.0}, 'journal-article': {'last-status-check-time': 1593151913801, 'affiliations': 8.203330253309105e-06, 'abstracts': 0.012082333676517001, 'orcids': 0.007960746064782, 'licenses': 0.049662958830595, 'references': 0.214242860674858, 'funders': 0.005749362520873, 'similarity-checking': 0.9481936097145081, 'award-numbers': 0.0016512131551280002, 'update-policies': 0.166569784283638, 'resource-links': 0.049647726118564, 'open-references': 1.0}}, 'current': {'proceedings-article': {'last-status-check-time': 1593151910755, 'affiliations': 0.0, 'abstracts': 0.0, 'orcids': 0.0, 'licenses': 0.0, 'references': 7.080398063408211e-05, 'funders': 0.0, 'similarity-checking': 1.0, 'award-numbers': 0.0, 'update-policies': 1.0, 'resource-links': 0.0, 'open-references': 1.0}, 'journal-article': {'last-status-check-time': 1593151907016, 'affiliations': 1.974840597540605e-05, 'abstracts': 0.55814915895462, 'orcids': 0.473329782485961, 'licenses': 0.25556412339210505, 'references': 0.69921201467514, 'funders': 0.264727383852005, 'similarity-checking': 1.0, 'award-numbers': 0.11041333526372901, 'update-policies': 0.9841815233230591, 'resource-links': 0.174812883138656, 'open-references': 1.0}}}  \n",
       "flags                   {'deposits-abstracts-current': True, 'deposits-orcids-current': True, 'deposits': True, 'deposits-affiliations-backfile': True, 'deposits-update-policies-backfile': True, 'deposits-similarity-checking-backfile': True, 'deposits-award-numbers-current': True, 'deposits-resource-links-current': True, 'deposits-articles': True, 'deposits-affiliations-current': True, 'deposits-funders-current': True, 'deposits-references-backfile': True, 'deposits-abstracts-backfile': True, 'deposits-licenses-backfile': True, 'deposits-award-numbers-backfile': True, 'deposits-open-references-backfile': True, 'deposits-open-references-current': True, 'deposits-references-current': True, 'deposits-resource-links-backfile': True, 'deposits-orcids-backfile': True, 'deposits-funders-backfile': True, 'deposits-update-policies-current': True, 'deposits-similarity-checking-current': True, 'deposits-licenses-current': True}                                                                                                                                                                                                                                                                                                                                                                                                                                                                                                                                                                                                                                                                                                                                                                                                                                                                                                                                                                                                                                                                                                                                                                                                                                                                                                                                                                                                                                                                                                                                                                                                                                                                                                                                                                                                                                                                                                                                                                                                                                                                                                                                                                                                                                                                                                                                                                                                                                                                                                                                                                                                                                                                                                                                                                                                                                                                                    \n",
       "id                      239                                                                                                                                                                                                                                                                                                                                                                                                                                                                                                                                                                                                                                                                                                                                                                                                                                                                                                                                                                                                                                                                                                                                                                                                                                                                                                                                                                                                                                                                                                                                                                                                                                                                                                                                                                                                                                                                                                                                                                                                                                                                                                                                                                                                                                                                                                                                                                                                                                                                                                                                                                                                                                                                                                                                                                                                                                                                                                                                                                                                                                                                                                                                                                                                                                                                                                                                                                                                                                                                                                                                                                                                                                                                                                                                                                                                                           \n",
       "last-status-check-time  1593151950376                                                                                                                                                                                                                                                                                                                                                                                                                                                                                                                                                                                                                                                                                                                                                                                                                                                                                                                                                                                                                                                                                                                                                                                                                                                                                                                                                                                                                                                                                                                                                                                                                                                                                                                                                                                                                                                                                                                                                                                                                                                                                                                                                                                                                                                                                                                                                                                                                                                                                                                                                                                                                                                                                                                                                                                                                                                                                                                                                                                                                                                                                                                                                                                                                                                                                                                                                                                                                                                                                                                                                                                                                                                                                                                                                                                                                 \n",
       "location                BMA House Tavistock Square Tavistock Square London WC1H 9JP United Kingdom                                                                                                                                                                                                                                                                                                                                                                                                                                                                                                                                                                                                                                                                                                                                                                                                                                                                                                                                                                                                                                                                                                                                                                                                                                                                                                                                                                                                                                                                                                                                                                                                                                                                                                                                                                                                                                                                                                                                                                                                                                                                                                                                                                                                                                                                                                                                                                                                                                                                                                                                                                                                                                                                                                                                                                                                                                                                                                                                                                                                                                                                                                                                                                                                                                                                                                                                                                                                                                                                                                                                                                                                                                                                                                                                                    \n",
       "names                   [BMJ, Faculty of Family Planning]                                                                                                                                                                                                                                                                                                                                                                                                                                                                                                                                                                                                                                                                                                                                                                                                                                                                                                                                                                                                                                                                                                                                                                                                                                                                                                                                                                                                                                                                                                                                                                                                                                                                                                                                                                                                                                                                                                                                                                                                                                                                                                                                                                                                                                                                                                                                                                                                                                                                                                                                                                                                                                                                                                                                                                                                                                                                                                                                                                                                                                                                                                                                                                                                                                                                                                                                                                                                                                                                                                                                                                                                                                                                                                                                                                                             \n",
       "prefix                  [{'value': '10.1783', 'name': 'Faculty of Family Planning', 'public-references': True, 'reference-visibility': 'open'}, {'value': '10.1136', 'name': 'BMJ', 'public-references': True, 'reference-visibility': 'open'}]                                                                                                                                                                                                                                                                                                                                                                                                                                                                                                                                                                                                                                                                                                                                                                                                                                                                                                                                                                                                                                                                                                                                                                                                                                                                                                                                                                                                                                                                                                                                                                                                                                                                                                                                                                                                                                                                                                                                                                                                                                                                                                                                                                                                                                                                                                                                                                                                                                                                                                                                                                                                                                                                                                                                                                                                                                                                                                                                                                                                                                                                                                                                                                                                                                                                                                                                                                                                                                                                                                                                                                                                       \n",
       "prefixes                [10.1783, 10.1136]                                                                                                                                                                                                                                                                                                                                                                                                                                                                                                                                                                                                                                                                                                                                                                                                                                                                                                                                                                                                                                                                                                                                                                                                                                                                                                                                                                                                                                                                                                                                                                                                                                                                                                                                                                                                                                                                                                                                                                                                                                                                                                                                                                                                                                                                                                                                                                                                                                                                                                                                                                                                                                                                                                                                                                                                                                                                                                                                                                                                                                                                                                                                                                                                                                                                                                                                                                                                                                                                                                                                                                                                                                                                                                                                                                                                            \n",
       "primary-name            BMJ                                                                                                                                                                                                                                                                                                                                                                                                                                                                                                                                                                                                                                                                                                                                                                                                                                                                                                                                                                                                                                                                                                                                                                                                                                                                                                                                                                                                                                                                                                                                                                                                                                                                                                                                                                                                                                                                                                                                                                                                                                                                                                                                                                                                                                                                                                                                                                                                                                                                                                                                                                                                                                                                                                                                                                                                                                                                                                                                                                                                                                                                                                                                                                                                                                                                                                                                                                                                                                                                                                                                                                                                                                                                                                                                                                                                                           \n",
       "tokens                  [bmj]                                                                                                                                                                                                                                                                                                                                                                                                                                                                                                                                                                                                                                                                                                                                                                                                                                                                                                                                                                                                                                                                                                                                                                                                                                                                                                                                                                                                                                                                                                                                                                                                                                                                                                                                                                                                                                                                                                                                                                                                                                                                                                                                                                                                                                                                                                                                                                                                                                                                                                                                                                                                                                                                                                                                                                                                                                                                                                                                                                                                                                                                                                                                                                                                                                                                                                                                                                                                                                                                                                                                                                                                                                                                                                                                                                                                                         "
      ]
     },
     "execution_count": 64,
     "metadata": {},
     "output_type": "execute_result"
    }
   ],
   "source": [
    "response_df"
   ]
  },
  {
   "cell_type": "markdown",
   "metadata": {},
   "source": [
    "### now let's get some article metadata "
   ]
  },
  {
   "cell_type": "markdown",
   "metadata": {},
   "source": [
    "I'm interested in getting articles that have abstract metadata, and I'd like to get a sample, so I can use some filters that the crossref API provide.  "
   ]
  },
  {
   "cell_type": "code",
   "execution_count": 76,
   "metadata": {},
   "outputs": [],
   "source": [
    "# the query against the endpoint below felt like it took about a minute to run. \n",
    "url = \"https://api.crossref.org/members/239/works?filter=has-abstract:true&sample=100\" \n",
    "results = r.get(url)\n",
    "response_df = pd.read_json(results.text)"
   ]
  },
  {
   "cell_type": "code",
   "execution_count": 85,
   "metadata": {},
   "outputs": [],
   "source": [
    "bmJ_article_sample = results.json()[\"message\"][\"items\"]"
   ]
  },
  {
   "cell_type": "markdown",
   "metadata": {},
   "source": [
    "Now I've got a sample of 100 articles from BMJ with associated metadata. Let's look at what metadata we can get from one record."
   ]
  },
  {
   "cell_type": "code",
   "execution_count": 89,
   "metadata": {},
   "outputs": [
    {
     "data": {
      "text/plain": [
       "dict_keys(['indexed', 'reference-count', 'publisher', 'funder', 'content-domain', 'short-container-title', 'abstract', 'DOI', 'type', 'created', 'page', 'update-policy', 'source', 'is-referenced-by-count', 'title', 'prefix', 'author', 'member', 'published-online', 'reference', 'container-title', 'language', 'link', 'deposited', 'score', 'issued', 'references-count', 'alternative-id', 'URL', 'relation', 'ISSN', 'issn-type', 'subject'])"
      ]
     },
     "execution_count": 89,
     "metadata": {},
     "output_type": "execute_result"
    }
   ],
   "source": [
    "bmJ_article_sample[4].keys()"
   ]
  },
  {
   "cell_type": "markdown",
   "metadata": {},
   "source": [
    "Let's work through these and decide which ones we want to try to view in datasette. "
   ]
  },
  {
   "cell_type": "code",
   "execution_count": 124,
   "metadata": {},
   "outputs": [
    {
     "data": {
      "text/plain": [
       "{'date-parts': [[2020, 6, 30]],\n",
       " 'date-time': '2020-06-30T21:41:52Z',\n",
       " 'timestamp': 1593553312745}"
      ]
     },
     "execution_count": 124,
     "metadata": {},
     "output_type": "execute_result"
    }
   ],
   "source": [
    "bmJ_article_sample[4][\"indexed\"] # not interested in this right now."
   ]
  },
  {
   "cell_type": "code",
   "execution_count": 125,
   "metadata": {},
   "outputs": [
    {
     "data": {
      "text/plain": [
       "29"
      ]
     },
     "execution_count": 125,
     "metadata": {},
     "output_type": "execute_result"
    }
   ],
   "source": [
    "bmJ_article_sample[4][\"reference-count\"] # this is interesting - keep this one"
   ]
  },
  {
   "cell_type": "code",
   "execution_count": 126,
   "metadata": {},
   "outputs": [
    {
     "data": {
      "text/plain": [
       "'BMJ'"
      ]
     },
     "execution_count": 126,
     "metadata": {},
     "output_type": "execute_result"
    }
   ],
   "source": [
    "bmJ_article_sample[4][\"publisher\"] # we know we are the publisher, so ignore this one for now. "
   ]
  },
  {
   "cell_type": "code",
   "execution_count": 127,
   "metadata": {},
   "outputs": [
    {
     "data": {
      "text/plain": [
       "[{'DOI': '10.13039/100000009',\n",
       "  'name': 'Foundation for the National Institutes of Health',\n",
       "  'doi-asserted-by': 'publisher',\n",
       "  'award': ['R01NS111119-01A1']}]"
      ]
     },
     "execution_count": 127,
     "metadata": {},
     "output_type": "execute_result"
    }
   ],
   "source": [
    "bmJ_article_sample[4][\"funder\"] # the funder is interesting, but needs a bit more work to extract, let's create a short function to do that for us. "
   ]
  },
  {
   "cell_type": "code",
   "execution_count": 186,
   "metadata": {},
   "outputs": [],
   "source": [
    "def get_funder_info(funders):\n",
    "    award_numbers = []\n",
    "    funder_names = []\n",
    "    funder_dois = []\n",
    "    for funder in funders:\n",
    "        if 'award' in funder: \n",
    "            award_numbers.append(funder[\"award\"])\n",
    "        else:\n",
    "            award_numbers.append([\"\"])\n",
    "        funder_names.append(funder['name'])\n",
    "        if 'DOI' in funder:\n",
    "            funder_dois.append(funder['DOI'])\n",
    "        else:\n",
    "            funder_dois.append([\"\"])\n",
    "    return award_numbers, funder_names, funder_dois"
   ]
  },
  {
   "cell_type": "code",
   "execution_count": 94,
   "metadata": {},
   "outputs": [
    {
     "data": {
      "text/plain": [
       "{'domain': ['bmj.com'], 'crossmark-restriction': True}"
      ]
     },
     "execution_count": 94,
     "metadata": {},
     "output_type": "execute_result"
    }
   ],
   "source": [
    "bmJ_article_sample[4][\"content-domain\"] # not interested in this"
   ]
  },
  {
   "cell_type": "code",
   "execution_count": 95,
   "metadata": {},
   "outputs": [
    {
     "data": {
      "text/plain": [
       "['J NeuroIntervent Surg']"
      ]
     },
     "execution_count": 95,
     "metadata": {},
     "output_type": "execute_result"
    }
   ],
   "source": [
    "bmJ_article_sample[4][\"short-container-title\"] #only keep if the journal title is not available"
   ]
  },
  {
   "cell_type": "code",
   "execution_count": 96,
   "metadata": {},
   "outputs": [
    {
     "data": {
      "text/plain": [
       "'<jats:sec><jats:title>Background</jats:title><jats:p>The management of unruptured intracranial aneurysms (UIAs) has evolved significantly over the last few decades. Our objective was to evaluate the 100 most cited UIA articles by bibliometric analysis to identify nature, content and shifts over time.</jats:p></jats:sec><jats:sec><jats:title>Methods</jats:title><jats:p>Elsevier’s Scopus database was interrogated for the 100 most cited articles that focused on UIA. Older versus newer articles were compared, with categorical data analyzed using Pearson’s Chi-square, and continuous data analyzed using Wilcoxon’s rank-sum test.</jats:p></jats:sec><jats:sec><jats:title>Results</jats:title><jats:p>The 100 most cited articles were published between 1975 and 2015, with the majority of these reporting patient clinical outcomes (n=69). There were 47/69 (68%) articles that described surgical intervention, with 38/47 (81%) and 18/47 (38%) including endovascular and open approaches, respectively . Publications peaked in 2004 (n=8), and the most common country of correspondence was the United States (n=59). Compared to older articles, newer articles had statistically higher citation rates (P&lt;0.01), higher number of authors (P&lt;0.01) with more multiple institution collaborations (P=0.01), greater disclosures of funding (P&lt;0.01), more focus on endovascular treatments (P=0.04), in more journals with a clinical, non-surgical focus (P&lt;0.01) published under open access policies (P&lt;0.01).</jats:p></jats:sec><jats:sec><jats:title>Conclusions</jats:title><jats:p>In the 100 most cited articles about UIAs to date, there is a distinct shift towards more co-authored efforts utilizing multi-institutional efforts focused on endovascular approaches supported by funding. The emergence of endovascular techniques has refreshed the need for more contemporary rupture risk prediction models and natural history data to validate current attitudes towards clinical management after these minimally invasive procedures for UIAs.</jats:p></jats:sec>'"
      ]
     },
     "execution_count": 96,
     "metadata": {},
     "output_type": "execute_result"
    }
   ],
   "source": [
    "bmJ_article_sample[4][\"abstract\"] # yes - interested "
   ]
  },
  {
   "cell_type": "code",
   "execution_count": 134,
   "metadata": {},
   "outputs": [
    {
     "data": {
      "text/plain": [
       "'10.1136/neurintsurg-2020-016238'"
      ]
     },
     "execution_count": 134,
     "metadata": {},
     "output_type": "execute_result"
    }
   ],
   "source": [
    "bmJ_article_sample[4][\"DOI\"] # yes"
   ]
  },
  {
   "cell_type": "code",
   "execution_count": 133,
   "metadata": {},
   "outputs": [
    {
     "data": {
      "text/plain": [
       "'journal-article'"
      ]
     },
     "execution_count": 133,
     "metadata": {},
     "output_type": "execute_result"
    }
   ],
   "source": [
    "bmJ_article_sample[4][\"type\"] # no"
   ]
  },
  {
   "cell_type": "code",
   "execution_count": 99,
   "metadata": {},
   "outputs": [
    {
     "data": {
      "text/plain": [
       "{'date-parts': [[2020, 6, 30]],\n",
       " 'date-time': '2020-06-30T21:27:03Z',\n",
       " 'timestamp': 1593552423000}"
      ]
     },
     "execution_count": 99,
     "metadata": {},
     "output_type": "execute_result"
    }
   ],
   "source": [
    "bmJ_article_sample[4][\"created\"] # just want the timestamp"
   ]
  },
  {
   "cell_type": "code",
   "execution_count": 135,
   "metadata": {},
   "outputs": [],
   "source": [
    "def get_timesstamp(created):\n",
    "    return created[\"date-time\"]"
   ]
  },
  {
   "cell_type": "code",
   "execution_count": 136,
   "metadata": {},
   "outputs": [
    {
     "data": {
      "text/plain": [
       "'neurintsurg-2020-016238'"
      ]
     },
     "execution_count": 136,
     "metadata": {},
     "output_type": "execute_result"
    }
   ],
   "source": [
    "bmJ_article_sample[4][\"page\"] # not interested"
   ]
  },
  {
   "cell_type": "code",
   "execution_count": 137,
   "metadata": {},
   "outputs": [
    {
     "data": {
      "text/plain": [
       "'http://dx.doi.org/10.1136/crossmarkpolicy'"
      ]
     },
     "execution_count": 137,
     "metadata": {},
     "output_type": "execute_result"
    }
   ],
   "source": [
    "bmJ_article_sample[4][\"update-policy\"] # not interested"
   ]
  },
  {
   "cell_type": "code",
   "execution_count": 138,
   "metadata": {},
   "outputs": [
    {
     "data": {
      "text/plain": [
       "'Crossref'"
      ]
     },
     "execution_count": 138,
     "metadata": {},
     "output_type": "execute_result"
    }
   ],
   "source": [
    "bmJ_article_sample[4][\"source\"] # not interested"
   ]
  },
  {
   "cell_type": "code",
   "execution_count": 139,
   "metadata": {},
   "outputs": [
    {
     "data": {
      "text/plain": [
       "0"
      ]
     },
     "execution_count": 139,
     "metadata": {},
     "output_type": "execute_result"
    }
   ],
   "source": [
    "bmJ_article_sample[4][\"is-referenced-by-count\"] # keep this, though in this example the nubmer is 0, interesting if non zero"
   ]
  },
  {
   "cell_type": "code",
   "execution_count": 140,
   "metadata": {},
   "outputs": [
    {
     "data": {
      "text/plain": [
       "['Nature, content and shifts over time of the most impactful unruptured intracranial aneurysms articles: a bibliometric analysis']"
      ]
     },
     "execution_count": 140,
     "metadata": {},
     "output_type": "execute_result"
    }
   ],
   "source": [
    "bmJ_article_sample[4][\"title\"] # yes!"
   ]
  },
  {
   "cell_type": "code",
   "execution_count": 141,
   "metadata": {},
   "outputs": [
    {
     "data": {
      "text/plain": [
       "'10.1136'"
      ]
     },
     "execution_count": 141,
     "metadata": {},
     "output_type": "execute_result"
    }
   ],
   "source": [
    "bmJ_article_sample[4][\"prefix\"] # no"
   ]
  },
  {
   "cell_type": "code",
   "execution_count": 142,
   "metadata": {},
   "outputs": [
    {
     "data": {
      "text/plain": [
       "[{'ORCID': 'http://orcid.org/0000-0002-9470-5890',\n",
       "  'authenticated-orcid': False,\n",
       "  'given': 'Victor M',\n",
       "  'family': 'Lu',\n",
       "  'sequence': 'first',\n",
       "  'affiliation': []},\n",
       " {'given': 'Stephanie H',\n",
       "  'family': 'Chen',\n",
       "  'sequence': 'additional',\n",
       "  'affiliation': []},\n",
       " {'ORCID': 'http://orcid.org/0000-0002-3679-3212',\n",
       "  'authenticated-orcid': False,\n",
       "  'given': 'Christopher C',\n",
       "  'family': 'Young',\n",
       "  'sequence': 'additional',\n",
       "  'affiliation': []},\n",
       " {'given': 'Robert M',\n",
       "  'family': 'Starke',\n",
       "  'sequence': 'additional',\n",
       "  'affiliation': []}]"
      ]
     },
     "execution_count": 142,
     "metadata": {},
     "output_type": "execute_result"
    }
   ],
   "source": [
    "bmJ_article_sample[4][\"author\"] # very interesting, need to get some more data from this!, let's write a quick function"
   ]
  },
  {
   "cell_type": "code",
   "execution_count": 152,
   "metadata": {},
   "outputs": [
    {
     "name": "stdout",
     "output_type": "stream",
     "text": [
      "4 ['http://orcid.org/0000-0002-9470-5890', 'http://orcid.org/0000-0002-3679-3212'] ['Victor M Lu', 'Stephanie H Chen', 'Christopher C Young', 'Robert M Starke']\n"
     ]
    }
   ],
   "source": [
    "def get_author_info(author_data):\n",
    "    author_number = len(author_data)\n",
    "    orcids = []\n",
    "    names = []\n",
    "    for author in author_data:\n",
    "        if 'ORCID' in author: orcids.append(author[\"ORCID\"])\n",
    "        author_name = author[\"given\"] + \" \" + author[\"family\"]\n",
    "        names.append(author_name)\n",
    "    return author_number, orcids, names\n",
    "author_number, orcids, names = get_author_info(bmJ_article_sample[4][\"author\"])\n",
    "print(author_number, orcids, names)"
   ]
  },
  {
   "cell_type": "code",
   "execution_count": 153,
   "metadata": {},
   "outputs": [
    {
     "data": {
      "text/plain": [
       "'239'"
      ]
     },
     "execution_count": 153,
     "metadata": {},
     "output_type": "execute_result"
    }
   ],
   "source": [
    "bmJ_article_sample[4][\"member\"] # not interested"
   ]
  },
  {
   "cell_type": "code",
   "execution_count": 154,
   "metadata": {},
   "outputs": [
    {
     "data": {
      "text/plain": [
       "{'date-parts': [[2020, 6, 30]]}"
      ]
     },
     "execution_count": 154,
     "metadata": {},
     "output_type": "execute_result"
    }
   ],
   "source": [
    "bmJ_article_sample[4][\"published-online\"] # not interested"
   ]
  },
  {
   "cell_type": "code",
   "execution_count": 155,
   "metadata": {},
   "outputs": [
    {
     "data": {
      "text/plain": [
       "[{'key': '2020063014251776000_neurintsurg-2020-016238v1.1',\n",
       "  'DOI': '10.1016/S1474-4422(14)70015-8',\n",
       "  'doi-asserted-by': 'publisher'},\n",
       " {'key': '2020063014251776000_neurintsurg-2020-016238v1.2',\n",
       "  'DOI': '10.1136/neurintsurg-2019-015418',\n",
       "  'doi-asserted-by': 'publisher'},\n",
       " {'key': '2020063014251776000_neurintsurg-2020-016238v1.3',\n",
       "  'first-page': '603',\n",
       "  'article-title': 'Unruptured intracranial aneurysms: in search of the best management strategy: editorial',\n",
       "  'volume': '32',\n",
       "  'author': 'Kassell',\n",
       "  'year': '2001',\n",
       "  'journal-title': 'Stroke'},\n",
       " {'key': '2020063014251776000_neurintsurg-2020-016238v1.4',\n",
       "  'DOI': '10.3171/jns.1990.73.1.0037',\n",
       "  'doi-asserted-by': 'publisher'},\n",
       " {'key': '2020063014251776000_neurintsurg-2020-016238v1.5',\n",
       "  'doi-asserted-by': 'crossref',\n",
       "  'first-page': '919',\n",
       "  'DOI': '10.1016/j.wneu.2017.07.074',\n",
       "  'article-title': 'Shifting treatment paradigms for ruptured aneurysms from open surgery to endovascular therapy over 25 years',\n",
       "  'volume': '106',\n",
       "  'author': 'Bender',\n",
       "  'year': '2017',\n",
       "  'journal-title': 'World Neurosurg'},\n",
       " {'key': '2020063014251776000_neurintsurg-2020-016238v1.6',\n",
       "  'DOI': '10.1371/journal.pmed.1000097',\n",
       "  'doi-asserted-by': 'publisher'},\n",
       " {'key': '2020063014251776000_neurintsurg-2020-016238v1.7',\n",
       "  'DOI': '10.1096/fj.07-9492LSF',\n",
       "  'doi-asserted-by': 'publisher'},\n",
       " {'key': '2020063014251776000_neurintsurg-2020-016238v1.8',\n",
       "  'DOI': '10.1016/S0140-6736(03)13860-3',\n",
       "  'doi-asserted-by': 'publisher'},\n",
       " {'key': '2020063014251776000_neurintsurg-2020-016238v1.9',\n",
       "  'DOI': '10.1056/NEJM199812103392401',\n",
       "  'doi-asserted-by': 'publisher'},\n",
       " {'key': '2020063014251776000_neurintsurg-2020-016238v1.10',\n",
       "  'first-page': '7',\n",
       "  'article-title': 'The microsurgical approach to intracranial aneurysms',\n",
       "  'volume': '3',\n",
       "  'author': 'Yasargil',\n",
       "  'year': '1975',\n",
       "  'journal-title': 'Surg Neurol'},\n",
       " {'key': '2020063014251776000_neurintsurg-2020-016238v1.11',\n",
       "  'DOI': '10.1161/STR.0000000000000070',\n",
       "  'doi-asserted-by': 'publisher'},\n",
       " {'key': '2020063014251776000_neurintsurg-2020-016238v1.12',\n",
       "  'DOI': '10.1038/ng.563',\n",
       "  'doi-asserted-by': 'publisher'},\n",
       " {'key': '2020063014251776000_neurintsurg-2020-016238v1.13',\n",
       "  'DOI': '10.3171/jns.2000.93.3.0379',\n",
       "  'doi-asserted-by': 'publisher'},\n",
       " {'key': '2020063014251776000_neurintsurg-2020-016238v1.14',\n",
       "  'DOI': '10.3171/jns.1993.79.2.0174',\n",
       "  'doi-asserted-by': 'publisher'},\n",
       " {'key': '2020063014251776000_neurintsurg-2020-016238v1.15',\n",
       "  'DOI': '10.1161/STROKEAHA.113.001838',\n",
       "  'doi-asserted-by': 'publisher'},\n",
       " {'key': '2020063014251776000_neurintsurg-2020-016238v1.16',\n",
       "  'DOI': '10.1161/01.STR.32.2.485',\n",
       "  'doi-asserted-by': 'publisher'},\n",
       " {'key': '2020063014251776000_neurintsurg-2020-016238v1.17',\n",
       "  'first-page': '2550',\n",
       "  'article-title': 'Characterization of cerebral aneurysms for assessing risk of rupture by using patient-specific computational hemodynamics models',\n",
       "  'volume': '26',\n",
       "  'author': 'Cebral',\n",
       "  'year': '2005',\n",
       "  'journal-title': 'AJNR Am J Neuroradiol'},\n",
       " {'key': '2020063014251776000_neurintsurg-2020-016238v1.18',\n",
       "  'DOI': '10.1109/TMI.2005.844159',\n",
       "  'doi-asserted-by': 'publisher'},\n",
       " {'key': '2020063014251776000_neurintsurg-2020-016238v1.19',\n",
       "  'DOI': '10.3174/ajnr.A2274',\n",
       "  'doi-asserted-by': 'publisher'},\n",
       " {'key': '2020063014251776000_neurintsurg-2020-016238v1.20',\n",
       "  'DOI': '10.3174/ajnr.A2419',\n",
       "  'doi-asserted-by': 'publisher'},\n",
       " {'key': '2020063014251776000_neurintsurg-2020-016238v1.21',\n",
       "  'DOI': '10.1016/S1474-4422(13)70263-1',\n",
       "  'doi-asserted-by': 'publisher'},\n",
       " {'key': '2020063014251776000_neurintsurg-2020-016238v1.22',\n",
       "  'doi-asserted-by': 'crossref',\n",
       "  'first-page': '145',\n",
       "  'DOI': '10.1016/j.wneu.2016.11.079',\n",
       "  'article-title': 'Neurosurgeons in Japan are exclusively brain surgeons',\n",
       "  'volume': '99',\n",
       "  'author': 'Asamoto',\n",
       "  'year': '2017',\n",
       "  'journal-title': 'World Neurosurg'},\n",
       " {'key': '2020063014251776000_neurintsurg-2020-016238v1.23',\n",
       "  'doi-asserted-by': 'crossref',\n",
       "  'first-page': '1142',\n",
       "  'DOI': '10.3171/2018.10.JNS171723',\n",
       "  'article-title': 'The global neurosurgical workforce: a mixed-methods assessment of density and growth',\n",
       "  'volume': '130',\n",
       "  'author': 'Mukhopadhyay',\n",
       "  'year': '2019',\n",
       "  'journal-title': 'J Neurosurg'},\n",
       " {'key': '2020063014251776000_neurintsurg-2020-016238v1.24',\n",
       "  'DOI': '10.3171/JNS/2008/108/5/1052',\n",
       "  'doi-asserted-by': 'publisher'},\n",
       " {'key': '2020063014251776000_neurintsurg-2020-016238v1.25',\n",
       "  'DOI': '10.1136/jnnp-2016-314477',\n",
       "  'doi-asserted-by': 'publisher'},\n",
       " {'key': '2020063014251776000_neurintsurg-2020-016238v1.26',\n",
       "  'doi-asserted-by': 'crossref',\n",
       "  'first-page': '461',\n",
       "  'DOI': '10.1016/j.wneu.2019.01.195',\n",
       "  'article-title': 'Cost comparison of surgical clipping and endovascular coiling of unruptured intracranial aneurysms: a systematic review',\n",
       "  'volume': '125',\n",
       "  'author': 'Engele',\n",
       "  'year': '2019',\n",
       "  'journal-title': 'World Neurosurg'},\n",
       " {'key': '2020063014251776000_neurintsurg-2020-016238v1.27',\n",
       "  'DOI': '10.1109/TMI.2007.901008',\n",
       "  'doi-asserted-by': 'publisher'},\n",
       " {'key': '2020063014251776000_neurintsurg-2020-016238v1.28',\n",
       "  'DOI': '10.1016/j.wneu.2019.06.231',\n",
       "  'doi-asserted-by': 'publisher'},\n",
       " {'key': '2020063014251776000_neurintsurg-2020-016238v1.29',\n",
       "  'doi-asserted-by': 'crossref',\n",
       "  'first-page': '766',\n",
       "  'DOI': '10.1016/j.wneu.2013.07.011',\n",
       "  'article-title': 'Part II: should the h-index be modified? An analysis of the m-quotient, contemporary h-index, authorship value, and impact factor',\n",
       "  'volume': '80',\n",
       "  'author': 'Khan',\n",
       "  'year': '2013',\n",
       "  'journal-title': 'World Neurosurg'}]"
      ]
     },
     "execution_count": 155,
     "metadata": {},
     "output_type": "execute_result"
    }
   ],
   "source": [
    "bmJ_article_sample[4][\"reference\"] # very interesting, for now let's just look at the number of references "
   ]
  },
  {
   "cell_type": "code",
   "execution_count": 156,
   "metadata": {},
   "outputs": [
    {
     "name": "stdout",
     "output_type": "stream",
     "text": [
      "29\n"
     ]
    }
   ],
   "source": [
    "def get_reference_info(references):\n",
    "    return len(references)\n",
    "\n",
    "reference_number = get_reference_info(bmJ_article_sample[4][\"reference\"])\n",
    "print(reference_number)"
   ]
  },
  {
   "cell_type": "code",
   "execution_count": 111,
   "metadata": {},
   "outputs": [
    {
     "data": {
      "text/plain": [
       "['Journal of NeuroInterventional Surgery']"
      ]
     },
     "execution_count": 111,
     "metadata": {},
     "output_type": "execute_result"
    }
   ],
   "source": [
    "bmJ_article_sample[4][\"container-title\"] # yes, interested in this"
   ]
  },
  {
   "cell_type": "code",
   "execution_count": 112,
   "metadata": {},
   "outputs": [
    {
     "data": {
      "text/plain": [
       "'en'"
      ]
     },
     "execution_count": 112,
     "metadata": {},
     "output_type": "execute_result"
    }
   ],
   "source": [
    "bmJ_article_sample[4][\"language\"] # not interested"
   ]
  },
  {
   "cell_type": "code",
   "execution_count": 113,
   "metadata": {},
   "outputs": [
    {
     "data": {
      "text/plain": [
       "[{'URL': 'https://syndication.highwire.org/content/doi/10.1136/neurintsurg-2020-016238',\n",
       "  'content-type': 'unspecified',\n",
       "  'content-version': 'vor',\n",
       "  'intended-application': 'similarity-checking'}]"
      ]
     },
     "execution_count": 113,
     "metadata": {},
     "output_type": "execute_result"
    }
   ],
   "source": [
    "bmJ_article_sample[4][\"link\"] # not interested"
   ]
  },
  {
   "cell_type": "code",
   "execution_count": 114,
   "metadata": {},
   "outputs": [
    {
     "data": {
      "text/plain": [
       "{'date-parts': [[2020, 6, 30]],\n",
       " 'date-time': '2020-06-30T21:27:09Z',\n",
       " 'timestamp': 1593552429000}"
      ]
     },
     "execution_count": 114,
     "metadata": {},
     "output_type": "execute_result"
    }
   ],
   "source": [
    "bmJ_article_sample[4][\"deposited\"] # not interested "
   ]
  },
  {
   "cell_type": "code",
   "execution_count": 115,
   "metadata": {},
   "outputs": [
    {
     "data": {
      "text/plain": [
       "1.0"
      ]
     },
     "execution_count": 115,
     "metadata": {},
     "output_type": "execute_result"
    }
   ],
   "source": [
    "bmJ_article_sample[4][\"score\"] # not interested "
   ]
  },
  {
   "cell_type": "code",
   "execution_count": 116,
   "metadata": {},
   "outputs": [
    {
     "data": {
      "text/plain": [
       "{'date-parts': [[2020, 6, 30]]}"
      ]
     },
     "execution_count": 116,
     "metadata": {},
     "output_type": "execute_result"
    }
   ],
   "source": [
    "bmJ_article_sample[4][\"issued\"] # not interested "
   ]
  },
  {
   "cell_type": "code",
   "execution_count": 117,
   "metadata": {},
   "outputs": [
    {
     "data": {
      "text/plain": [
       "29"
      ]
     },
     "execution_count": 117,
     "metadata": {},
     "output_type": "execute_result"
    }
   ],
   "source": [
    "bmJ_article_sample[4][\"references-count\"] # yes interested"
   ]
  },
  {
   "cell_type": "code",
   "execution_count": 118,
   "metadata": {},
   "outputs": [
    {
     "data": {
      "text/plain": [
       "['10.1136/neurintsurg-2020-016238']"
      ]
     },
     "execution_count": 118,
     "metadata": {},
     "output_type": "execute_result"
    }
   ],
   "source": [
    "bmJ_article_sample[4][\"alternative-id\"] # not interested "
   ]
  },
  {
   "cell_type": "code",
   "execution_count": 119,
   "metadata": {},
   "outputs": [
    {
     "data": {
      "text/plain": [
       "'http://dx.doi.org/10.1136/neurintsurg-2020-016238'"
      ]
     },
     "execution_count": 119,
     "metadata": {},
     "output_type": "execute_result"
    }
   ],
   "source": [
    "bmJ_article_sample[4][\"URL\"] # yes"
   ]
  },
  {
   "cell_type": "code",
   "execution_count": 120,
   "metadata": {},
   "outputs": [
    {
     "data": {
      "text/plain": [
       "{'cites': []}"
      ]
     },
     "execution_count": 120,
     "metadata": {},
     "output_type": "execute_result"
    }
   ],
   "source": [
    "bmJ_article_sample[4][\"relation\"] # no "
   ]
  },
  {
   "cell_type": "code",
   "execution_count": 121,
   "metadata": {},
   "outputs": [
    {
     "data": {
      "text/plain": [
       "['1759-8478', '1759-8486']"
      ]
     },
     "execution_count": 121,
     "metadata": {},
     "output_type": "execute_result"
    }
   ],
   "source": [
    "bmJ_article_sample[4][\"ISSN\"] # yes "
   ]
  },
  {
   "cell_type": "code",
   "execution_count": 122,
   "metadata": {},
   "outputs": [
    {
     "data": {
      "text/plain": [
       "[{'value': '1759-8478', 'type': 'print'},\n",
       " {'value': '1759-8486', 'type': 'electronic'}]"
      ]
     },
     "execution_count": 122,
     "metadata": {},
     "output_type": "execute_result"
    }
   ],
   "source": [
    "bmJ_article_sample[4][\"issn-type\"] # no"
   ]
  },
  {
   "cell_type": "code",
   "execution_count": 123,
   "metadata": {},
   "outputs": [
    {
     "data": {
      "text/plain": [
       "['Surgery', 'Clinical Neurology', 'General Medicine']"
      ]
     },
     "execution_count": 123,
     "metadata": {},
     "output_type": "execute_result"
    }
   ],
   "source": [
    "bmJ_article_sample[4][\"subject\"] # yes"
   ]
  },
  {
   "cell_type": "markdown",
   "metadata": {},
   "source": [
    "### Picking the fields I want to extract\n",
    "\n",
    "Looking throuhg the above fields, for the purpose of this demo I want to extract the following: \n",
    "\n",
    "\n",
    "```\n",
    "funder -> via function \n",
    "abstract\n",
    "DOI\n",
    "created\n",
    "is-referenced-by-count\n",
    "title\n",
    "author -> via funciton \n",
    "references # not interested for now \n",
    "container-title\n",
    "references-count \n",
    "URL\n",
    "ISSN\n",
    "subject\n",
    "```\n",
    "\n",
    "Lets write a little function to extract and flatten this info from an aricle record from BMJ. \n",
    "\n",
    "\n"
   ]
  },
  {
   "cell_type": "code",
   "execution_count": 190,
   "metadata": {},
   "outputs": [],
   "source": [
    "def get_demo_info(article_record):\n",
    "    demo_info = []\n",
    "    demo_info.append(article_record[\"title\"][0]) # expected this to be flat, but needed to flatten more\n",
    "    demo_info.append(article_record[\"DOI\"])\n",
    "    demo_info.append(article_record[\"URL\"])\n",
    "    demo_info.append(article_record[\"created\"][\"date-time\"])\n",
    "    if 'subject' in article_record:\n",
    "        demo_info.append(article_record[\"subject\"])\n",
    "    else:\n",
    "        demo_info.append([\"\"])\n",
    "    demo_info.append(article_record[\"references-count\"])    \n",
    "    demo_info.append(article_record[\"is-referenced-by-count\"])\n",
    "    demo_info.append(article_record[\"ISSN\"])\n",
    "    demo_info.append(article_record[\"container-title\"][0]) # expected this to be flat, but needed to flatten more\n",
    "    demo_info.append(article_record[\"abstract\"])\n",
    "    # now the author info \n",
    "    if 'author' in article_record:\n",
    "        author_number, orcids, names = get_author_info(article_record[\"author\"])\n",
    "        demo_info.append(author_number)    \n",
    "        demo_info.append(orcids)\n",
    "        demo_info.append(names)\n",
    "    else:\n",
    "        demo_info.append(0)    \n",
    "        demo_info.append([\"\"])    \n",
    "        demo_info.append([\"\"])    \n",
    "    # now the funder info\n",
    "    if \"funder\" in article_record:\n",
    "        award_numbers, funder_names, funder_dois = get_funder_info(article_record[\"funder\"])\n",
    "        demo_info.append(award_numbers[0])    \n",
    "        demo_info.append(funder_names)\n",
    "        demo_info.append(funder_dois)\n",
    "    else:\n",
    "        demo_info.append([''])    \n",
    "        demo_info.append([''])\n",
    "        demo_info.append([''])    \n",
    "    return demo_info"
   ]
  },
  {
   "cell_type": "code",
   "execution_count": 191,
   "metadata": {},
   "outputs": [],
   "source": [
    "demo_info = get_demo_info(bmJ_article_sample[4])"
   ]
  },
  {
   "cell_type": "code",
   "execution_count": 192,
   "metadata": {},
   "outputs": [
    {
     "data": {
      "text/plain": [
       "['Nature, content and shifts over time of the most impactful unruptured intracranial aneurysms articles: a bibliometric analysis',\n",
       " '10.1136/neurintsurg-2020-016238',\n",
       " 'http://dx.doi.org/10.1136/neurintsurg-2020-016238',\n",
       " '2020-06-30T21:27:03Z',\n",
       " ['Surgery', 'Clinical Neurology', 'General Medicine'],\n",
       " 29,\n",
       " 0,\n",
       " ['1759-8478', '1759-8486'],\n",
       " 'Journal of NeuroInterventional Surgery',\n",
       " '<jats:sec><jats:title>Background</jats:title><jats:p>The management of unruptured intracranial aneurysms (UIAs) has evolved significantly over the last few decades. Our objective was to evaluate the 100 most cited UIA articles by bibliometric analysis to identify nature, content and shifts over time.</jats:p></jats:sec><jats:sec><jats:title>Methods</jats:title><jats:p>Elsevier’s Scopus database was interrogated for the 100 most cited articles that focused on UIA. Older versus newer articles were compared, with categorical data analyzed using Pearson’s Chi-square, and continuous data analyzed using Wilcoxon’s rank-sum test.</jats:p></jats:sec><jats:sec><jats:title>Results</jats:title><jats:p>The 100 most cited articles were published between 1975 and 2015, with the majority of these reporting patient clinical outcomes (n=69). There were 47/69 (68%) articles that described surgical intervention, with 38/47 (81%) and 18/47 (38%) including endovascular and open approaches, respectively . Publications peaked in 2004 (n=8), and the most common country of correspondence was the United States (n=59). Compared to older articles, newer articles had statistically higher citation rates (P&lt;0.01), higher number of authors (P&lt;0.01) with more multiple institution collaborations (P=0.01), greater disclosures of funding (P&lt;0.01), more focus on endovascular treatments (P=0.04), in more journals with a clinical, non-surgical focus (P&lt;0.01) published under open access policies (P&lt;0.01).</jats:p></jats:sec><jats:sec><jats:title>Conclusions</jats:title><jats:p>In the 100 most cited articles about UIAs to date, there is a distinct shift towards more co-authored efforts utilizing multi-institutional efforts focused on endovascular approaches supported by funding. The emergence of endovascular techniques has refreshed the need for more contemporary rupture risk prediction models and natural history data to validate current attitudes towards clinical management after these minimally invasive procedures for UIAs.</jats:p></jats:sec>',\n",
       " 4,\n",
       " ['http://orcid.org/0000-0002-9470-5890',\n",
       "  'http://orcid.org/0000-0002-3679-3212'],\n",
       " ['Victor M Lu', 'Stephanie H Chen', 'Christopher C Young', 'Robert M Starke'],\n",
       " ['R01NS111119-01A1'],\n",
       " ['Foundation for the National Institutes of Health'],\n",
       " ['10.13039/100000009']]"
      ]
     },
     "execution_count": 192,
     "metadata": {},
     "output_type": "execute_result"
    }
   ],
   "source": [
    "demo_info"
   ]
  },
  {
   "cell_type": "markdown",
   "metadata": {},
   "source": [
    "let's just check to see if this works over all of the article records pulled from corssref in this demo so far!"
   ]
  },
  {
   "cell_type": "code",
   "execution_count": 193,
   "metadata": {},
   "outputs": [],
   "source": [
    "full_demo_info = []\n",
    "for article in bmJ_article_sample:\n",
    "    demo_info = get_demo_info(article)\n",
    "    full_demo_info.append(demo_info)"
   ]
  },
  {
   "cell_type": "code",
   "execution_count": 195,
   "metadata": {},
   "outputs": [
    {
     "data": {
      "text/plain": [
       "100"
      ]
     },
     "execution_count": 195,
     "metadata": {},
     "output_type": "execute_result"
    }
   ],
   "source": [
    "len(full_demo_info)"
   ]
  },
  {
   "cell_type": "markdown",
   "metadata": {},
   "source": [
    "Now we have some sample data that we can export out to play with in datasette! For starters lets write this to a CSV file. "
   ]
  },
  {
   "cell_type": "code",
   "execution_count": 197,
   "metadata": {},
   "outputs": [],
   "source": [
    "with open(\"datasette_bmj_artilces.csv\", 'w', newline='') as csvfile: \n",
    "    article_writer = csv.writer(csvfile, delimiter=' ',\n",
    "                            quotechar='|', quoting=csv.QUOTE_MINIMAL)\n",
    "    for row in full_demo_info:\n",
    "        article_writer.writerow(row)"
   ]
  },
  {
   "cell_type": "markdown",
   "metadata": {},
   "source": [
    "Now we have our artilce data in a csv file. To be honest, taking a structurd json file, and flattening it to csv is possibly not the best way to go about this work, but as this is an excercise in learning about datasettle let's move on in any case! "
   ]
  },
  {
   "cell_type": "markdown",
   "metadata": {},
   "source": [
    "# Installing datasette, and getting started with it"
   ]
  },
  {
   "cell_type": "markdown",
   "metadata": {},
   "source": [
    "We will follow the docs in [https://datasette.readthedocs.io]() and we will try to install using `pip3`: [https://datasette.readthedocs.io/en/stable/installation.html#install-using-pip]() "
   ]
  },
  {
   "cell_type": "markdown",
   "metadata": {},
   "source": [
    "`$ sudo pip3 install datasette`  works, I have to use `sudo` shhhh! "
   ]
  },
  {
   "cell_type": "markdown",
   "metadata": {},
   "source": [
    "```\n",
    "$ datasette --version   \n",
    "datasette, version 0.45\n",
    "```"
   ]
  },
  {
   "cell_type": "markdown",
   "metadata": {},
   "source": [
    "OK, we have datasette installed locally, how do we get started with it? Following the instructions on [https://datasette.readthedocs.io/en/stable/getting_started.html#using-datasette-on-your-own-computer]() there are two paths we could follow now. \n",
    "\n",
    "1. look at the glitch version, and try to upload the CSV file that we have just created. \n",
    "\n",
    "2. try to use the tool to convert a csv file into a sqlite db locally, and then run datasette locally. \n",
    "\n",
    "I'm not confident that our csv is going to be easy to convert so I'm going to start by trying to do that conversion locally, in the hope that I might get some useful error messages. Onece I've gotten a local version working, I'm going to see if I can get a clone of the glitch version working, but with my data, so that we can see if this is a good route for data sharing. "
   ]
  },
  {
   "cell_type": "markdown",
   "metadata": {},
   "source": [
    "## Getting data into datasetts - using sqlite-utils to push data directly into an sqlite database "
   ]
  },
  {
   "cell_type": "markdown",
   "metadata": {},
   "source": [
    "Datasette comes with an ecosystem of tools - [https://datasette.readthedocs.io/en/stable/ecosystem.html](). Many of these are for converting data into a format that datasetts can use. When starting on this earlier today I had assumed that I would need to use `csvs-to-sqlite` to convert a csv file, but `sqlite-utils` also sounds interesting. \n",
    "\n",
    "Since I am already in a jupyter notebook, let's give `sqlite-utils` a go! \n",
    "\n",
    "I need to get `sqlite-utils` in this anaconda enviornment\n",
    "\n",
    "`$ ~/anaconda3/bin/pip install  sqlite_utils`"
   ]
  },
  {
   "cell_type": "code",
   "execution_count": 204,
   "metadata": {},
   "outputs": [],
   "source": [
    "import sqlite_utils"
   ]
  },
  {
   "cell_type": "code",
   "execution_count": 233,
   "metadata": {},
   "outputs": [],
   "source": [
    "db = sqlite_utils.Database(\"demo_bmj_article_database.db\")"
   ]
  },
  {
   "cell_type": "markdown",
   "metadata": {},
   "source": [
    "The documentation says that we can use this as follows: \n",
    "\n",
    "```python\n",
    "db[\"dogs\"].insert_all([\n",
    "    {\"id\": 1, \"age\": 4, \"name\": \"Cleo\"},\n",
    "    {\"id\": 2, \"age\": 2, \"name\": \"Pancakes\"}\n",
    "], pk=\"id\")\n",
    "```\n",
    "\n",
    "So I should go back, and unflatten my rows of artilce info, create dicts, with keys, and then insert them into the database. This is going to be a bit messy, but pushing ahead in any case, and we can refactor later if we have time. Basically, I'm going to rewrite `get_demo_info` to ouput a dict instead of a list. Probably earlier I could have applied some filtering to the result coming back from crossref, but I think it's OK for now. "
   ]
  },
  {
   "cell_type": "code",
   "execution_count": 234,
   "metadata": {},
   "outputs": [],
   "source": [
    "def get_demo_info_dict_test(article_record):\n",
    "    \"\"\"\n",
    "    We are just seeing if we can get the smallest meaningful example working\n",
    "    \"\"\"\n",
    "    demo_info_dict = {}\n",
    "    demo_info_dict[\"title\"] = article_record[\"title\"]\n",
    "    demo_info_dict[\"DOI\"] = article_record[\"DOI\"]\n",
    "    return demo_info_dict"
   ]
  },
  {
   "cell_type": "markdown",
   "metadata": {},
   "source": [
    "Before proceedig any further, I'm just going to do a very quick check to see if I can get this very basic information into datasette, and serve it locally. "
   ]
  },
  {
   "cell_type": "code",
   "execution_count": 235,
   "metadata": {},
   "outputs": [],
   "source": [
    "demo_info_dict_4 = get_demo_info_dict_test(bmJ_article_sample[4])\n",
    "demo_info_dict_5 = get_demo_info_dict_test(bmJ_article_sample[5])"
   ]
  },
  {
   "cell_type": "code",
   "execution_count": 236,
   "metadata": {},
   "outputs": [
    {
     "data": {
      "text/plain": [
       "<Table article (title, DOI)>"
      ]
     },
     "execution_count": 236,
     "metadata": {},
     "output_type": "execute_result"
    }
   ],
   "source": [
    "db[\"article\"].insert_all([\n",
    "    demo_info_dict_4,\n",
    "    demo_info_dict_5\n",
    "], pk=\"DOI\")"
   ]
  },
  {
   "cell_type": "markdown",
   "metadata": {},
   "source": [
    "## serving a local squlite db with datasette"
   ]
  },
  {
   "cell_type": "markdown",
   "metadata": {},
   "source": [
    "We have now created `demo_bmj_article_database.db`. We should be able to serve this with  \n",
    "\n",
    "```\n",
    " datasette serve demo_bmj_article_database.db\n",
    "INFO:     Started server process [11028]\n",
    "INFO:     Waiting for application startup.\n",
    "INFO:     Application startup complete.\n",
    "INFO:     Uvicorn running on http://127.0.0.1:8001 (Press CTRL+C to quit)\n",
    "\n",
    "```"
   ]
  },
  {
   "cell_type": "markdown",
   "metadata": {},
   "source": [
    "This worked, and I now have a local instance on datasette! How exciting! Let's go and get all of the info we are interested in and populate all of the rows of our sample data. "
   ]
  },
  {
   "cell_type": "code",
   "execution_count": 237,
   "metadata": {},
   "outputs": [],
   "source": [
    "def get_demo_info_dict(article_record):\n",
    "    demo_info_dict = {}\n",
    "    demo_info_dict[\"title\"] = article_record[\"title\"]\n",
    "    demo_info_dict[\"DOI\"] = article_record[\"DOI\"]\n",
    "    demo_info_dict[\"URL\"] = article_record[\"URL\"]\n",
    "    demo_info_dict[\"created\"] = article_record[\"created\"][\"date-time\"]\n",
    "    # subject info\n",
    "    if 'subject' in article_record:\n",
    "        demo_info_dict[\"subject\"] = article_record[\"subject\"]\n",
    "    else:\n",
    "        demo_info_dict[\"subject\"] = [] \n",
    "        \n",
    "    demo_info_dict[\"references-count\"] = article_record[\"references-count\"]    \n",
    "    demo_info_dict[\"is-referenced-by-count\"] = article_record[\"is-referenced-by-count\"]\n",
    "    demo_info_dict[\"ISSN\"] = article_record[\"ISSN\"]\n",
    "    demo_info_dict[\"container-title\"] = article_record[\"container-title\"][0] # expected this to be flat, but needed to flatten more\n",
    "    demo_info_dict[\"abstract\"] = article_record[\"abstract\"]\n",
    "\n",
    "    # now the author info \n",
    "    if 'author' in article_record:\n",
    "        author_number, orcids, names = get_author_info(article_record[\"author\"])\n",
    "        demo_info_dict[\"author_number\"] = author_number\n",
    "        demo_info_dict[\"orcids\"] = orcids\n",
    "        demo_info_dict[\"names\"] = names\n",
    "    else:\n",
    "        demo_info_dict[\"author_number\"] = 0\n",
    "        demo_info_dict[\"orcids\"] = [\"\"]\n",
    "        demo_info_dict[\"names\"] = [\"\"]\n",
    "\n",
    "    # now the funder info\n",
    "    if \"funder\" in article_record:\n",
    "        award_numbers, funder_names, funder_dois = get_funder_info(article_record[\"funder\"])\n",
    "        demo_info_dict[\"award_numbers\"] = award_numbers[0]\n",
    "        demo_info_dict[\"funder_names\"] = funder_names\n",
    "        demo_info_dict[\"funder_dois\"] = funder_dois \n",
    "    else:\n",
    "        demo_info_dict[\"award_numbers\"] = ['']\n",
    "        demo_info_dict[\"funder_names\"] = ['']\n",
    "        demo_info_dict[\"funder_dois\"] = ['']      \n",
    "\n",
    "    return demo_info_dict"
   ]
  },
  {
   "cell_type": "code",
   "execution_count": 245,
   "metadata": {},
   "outputs": [
    {
     "data": {
      "text/plain": [
       "100"
      ]
     },
     "execution_count": 245,
     "metadata": {},
     "output_type": "execute_result"
    }
   ],
   "source": [
    "info_dicts = []\n",
    "for article in bmJ_article_sample:\n",
    "    info_dict = get_demo_info_dict(article)\n",
    "    info_dicts.append(info_dict)\n",
    "len(info_dicts)"
   ]
  },
  {
   "cell_type": "code",
   "execution_count": 247,
   "metadata": {},
   "outputs": [
    {
     "data": {
      "text/plain": [
       "<Table article (title, DOI, URL, created, subject, references-count, is-referenced-by-count, ISSN, container-title, abstract, author_number, orcids, names, award_numbers, funder_names, funder_dois)>"
      ]
     },
     "execution_count": 247,
     "metadata": {},
     "output_type": "execute_result"
    }
   ],
   "source": [
    "db = sqlite_utils.Database(\"demo_bmj_article_database.db\")\n",
    "db[\"article\"].insert_all(info_dicts, pk=\"DOI\")"
   ]
  },
  {
   "cell_type": "markdown",
   "metadata": {},
   "source": [
    "## Hosting our data online on glitch \n",
    "\n",
    "We have now created a datasette instance with info from 100 BMJ articles. We could create some more tables, e.g. around funder or author info, but let's see if we can get this instance up and running online using the demo glitch project. \n",
    "\n",
    "[https://glitch.com]() is a site where you can create sites, or copy or clone sites. It's awesomt. Simon the datasette developer has created a demo datasette instance on glitch. You can clone it here: [https://glitch.com/edit/#!/ringed-succulent-silence?path=README.md%3A1%3A0](). Apparently it works by allowing you to drop a CSV file onto the root directory. Datasette also allows you to download your data as scv, so in principle I should be able to:\n",
    "\n",
    "- download the data I've just put into my local instance of datasette  \n",
    "- clone the glitch project  \n",
    "- drop my csv file onto glitch and serve my project\n",
    "\n",
    "Following these steps I can now serve an example of my data on glitch. Glitch generates a random domain name for each new project, so this project is called [https://watery-alder-carpenter.glitch.me]() and you can inspect the data by clicking into `data` and then into `article`: [https://watery-alder-carpenter.glitch.me/data/article](). \n",
    "\n",
    "\n",
    "\n",
    "\n"
   ]
  },
  {
   "cell_type": "markdown",
   "metadata": {},
   "source": [
    "### Enabling full text search on glitch \n",
    "\n",
    "The datasette ecosystem has a wide range of plugins, and one of these enables full text search. Following the instructions in the README of the glitch project, and applying them to my article table I did the following: \n",
    "\n",
    "```\n",
    "app@watery-alder-carpenter:~ 15:47 \n",
    "$ cd .data\n",
    "\n",
    "app@watery-alder-carpenter:~/.data 15:47 \n",
    "$ ls\n",
    "data.db\n",
    "\n",
    "app@watery-alder-carpenter:~/.data 15:47 \n",
    "$ sqlite-utils tables data.db --table --columns\n",
    "table    columns\n",
    "-------  ----------------------------------------------------------------------------------------------------------------------------------------------------------------------------------------------------------------------\n",
    "article  ['title', 'DOI', 'URL', 'created', 'subject', 'references-count', 'is-referenced-by-count', 'ISSN', 'container-title', 'abstract', 'author_number', 'orcids', 'names', 'award_numbers', 'funder_names', 'funder_dois']\n",
    "example  ['headline', 'body', 'url', 'extra']\n",
    "\n",
    "app@watery-alder-carpenter:~/.data 15:47 \n",
    "$ sqlite-utils enable-fts data.db article title subject abstract funder_names --fts4\n",
    "```\n",
    "\n",
    "This then created a search field on the article table that searches over title, abstract, subjects and funder names."
   ]
  },
  {
   "cell_type": "markdown",
   "metadata": {},
   "source": [
    "# Conclusion\n",
    "\n",
    "I'm really impressed with Datasette. It supports a huge number of features and plugins that I didn't get a chance to look at at all today. These include:\n",
    "\n",
    "- inspect and modify SQL queries  \n",
    "- JSON endpoints  \n",
    "- geo mapping \n",
    "- saved searches  \n",
    "- charting \n",
    "- per database and per-table metadata \n",
    "- setting default sort orders \n",
    "- setting which columns can be sorted by \n",
    "- enabling facets via uri e.g. [https://watery-alder-carpenter.glitch.me/data/article?_facet=created]()  \n",
    "- support for adding SSO, user accounts or API key  \n",
    "\n",
    "\n",
    "Overall how we share data, or make data visible online can often be a huge pain. Datasette goes a long way to proiving a set of tools to radically reduce the pain of doing this. I'm really glad that I took a few hours today to look at this tool. "
   ]
  },
  {
   "cell_type": "code",
   "execution_count": null,
   "metadata": {},
   "outputs": [],
   "source": []
  }
 ],
 "metadata": {
  "kernelspec": {
   "display_name": "Python 3",
   "language": "python",
   "name": "python3"
  },
  "language_info": {
   "codemirror_mode": {
    "name": "ipython",
    "version": 3
   },
   "file_extension": ".py",
   "mimetype": "text/x-python",
   "name": "python",
   "nbconvert_exporter": "python",
   "pygments_lexer": "ipython3",
   "version": "3.7.3"
  },
  "toc": {
   "base_numbering": 1,
   "nav_menu": {},
   "number_sections": true,
   "sideBar": true,
   "skip_h1_title": false,
   "title_cell": "Table of Contents",
   "title_sidebar": "Contents",
   "toc_cell": false,
   "toc_position": {},
   "toc_section_display": true,
   "toc_window_display": false
  },
  "varInspector": {
   "cols": {
    "lenName": 16,
    "lenType": 16,
    "lenVar": 40
   },
   "kernels_config": {
    "python": {
     "delete_cmd_postfix": "",
     "delete_cmd_prefix": "del ",
     "library": "var_list.py",
     "varRefreshCmd": "print(var_dic_list())"
    },
    "r": {
     "delete_cmd_postfix": ") ",
     "delete_cmd_prefix": "rm(",
     "library": "var_list.r",
     "varRefreshCmd": "cat(var_dic_list()) "
    }
   },
   "types_to_exclude": [
    "module",
    "function",
    "builtin_function_or_method",
    "instance",
    "_Feature"
   ],
   "window_display": false
  }
 },
 "nbformat": 4,
 "nbformat_minor": 4
}
